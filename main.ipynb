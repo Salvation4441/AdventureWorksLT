{
 "cells": [
  {
   "cell_type": "code",
   "execution_count": 2,
   "id": "b6757838",
   "metadata": {},
   "outputs": [
    {
     "name": "stdout",
     "output_type": "stream",
     "text": [
      "Connected to database: adventureworks.db\n"
     ]
    }
   ],
   "source": [
    "##Importing the necessary packages\n",
    "import pandas as pd #easy to use open source data analysis and manipulate data\n",
    "import numpy as np #used for working with arrays.\n",
    "import plotly.express as px # used for data visualization\n",
    "import plotly.graph_objects as go\n",
    "\n",
    "from connection import connect_to_db #importing the function to connect to the database\n",
    "import warnings\n",
    "warnings.filterwarnings('ignore')\n",
    "\n",
    "\n",
    "pd.set_option('display.max_colwidth',None)\n",
    "pd.set_option('display.max_columns',None)"
   ]
  },
  {
   "cell_type": "markdown",
   "id": "11be3f80",
   "metadata": {},
   "source": [
    "### Sales & Revenue Analysis"
   ]
  },
  {
   "cell_type": "markdown",
   "id": "2fe21954",
   "metadata": {},
   "source": [
    "1. What is the total sales generated?"
   ]
  },
  {
   "cell_type": "code",
   "execution_count": 7,
   "id": "8695e12f",
   "metadata": {},
   "outputs": [
    {
     "name": "stdout",
     "output_type": "stream",
     "text": [
      "Connected to database: adventureworks.db\n"
     ]
    },
    {
     "data": {
      "text/html": [
       "<div>\n",
       "<style scoped>\n",
       "    .dataframe tbody tr th:only-of-type {\n",
       "        vertical-align: middle;\n",
       "    }\n",
       "\n",
       "    .dataframe tbody tr th {\n",
       "        vertical-align: top;\n",
       "    }\n",
       "\n",
       "    .dataframe thead th {\n",
       "        text-align: right;\n",
       "    }\n",
       "</style>\n",
       "<table border=\"1\" class=\"dataframe\">\n",
       "  <thead>\n",
       "    <tr style=\"text-align: right;\">\n",
       "      <th></th>\n",
       "      <th>Total Sales</th>\n",
       "    </tr>\n",
       "  </thead>\n",
       "  <tbody>\n",
       "    <tr>\n",
       "      <th>0</th>\n",
       "      <td>1.098464e+08</td>\n",
       "    </tr>\n",
       "  </tbody>\n",
       "</table>\n",
       "</div>"
      ],
      "text/plain": [
       "    Total Sales\n",
       "0  1.098464e+08"
      ]
     },
     "execution_count": 7,
     "metadata": {},
     "output_type": "execute_result"
    }
   ],
   "source": [
    "# query for total sales\n",
    "total_sales = \"\"\"\n",
    "    SELECT\n",
    "        SUM(LineTotal) AS [Total Sales] \n",
    "    FROM SalesOrderDetail\n",
    "\"\"\"\n",
    "\n",
    "total_sales = pd.read_sql(total_sales,connect_to_db())\n",
    "total_sales"
   ]
  },
  {
   "cell_type": "markdown",
   "id": "99466add",
   "metadata": {},
   "source": [
    "2. What is the total number of orders made?"
   ]
  },
  {
   "cell_type": "code",
   "execution_count": 8,
   "id": "8c8ebefb",
   "metadata": {},
   "outputs": [
    {
     "name": "stdout",
     "output_type": "stream",
     "text": [
      "Connected to database: adventureworks.db\n"
     ]
    },
    {
     "data": {
      "text/html": [
       "<div>\n",
       "<style scoped>\n",
       "    .dataframe tbody tr th:only-of-type {\n",
       "        vertical-align: middle;\n",
       "    }\n",
       "\n",
       "    .dataframe tbody tr th {\n",
       "        vertical-align: top;\n",
       "    }\n",
       "\n",
       "    .dataframe thead th {\n",
       "        text-align: right;\n",
       "    }\n",
       "</style>\n",
       "<table border=\"1\" class=\"dataframe\">\n",
       "  <thead>\n",
       "    <tr style=\"text-align: right;\">\n",
       "      <th></th>\n",
       "      <th>Total Orders</th>\n",
       "    </tr>\n",
       "  </thead>\n",
       "  <tbody>\n",
       "    <tr>\n",
       "      <th>0</th>\n",
       "      <td>121317</td>\n",
       "    </tr>\n",
       "  </tbody>\n",
       "</table>\n",
       "</div>"
      ],
      "text/plain": [
       "   Total Orders\n",
       "0        121317"
      ]
     },
     "execution_count": 8,
     "metadata": {},
     "output_type": "execute_result"
    }
   ],
   "source": [
    "total_orders = \"\"\"\n",
    "    SELECT \n",
    "        COUNT(OrderQty) AS [Total Orders]\n",
    "    FROM SalesOrderDetail\n",
    "\"\"\"\n",
    "\n",
    "total_orders = pd.read_sql(total_orders,connect_to_db())\n",
    "total_orders"
   ]
  },
  {
   "cell_type": "markdown",
   "id": "a4b91f4a",
   "metadata": {},
   "source": [
    "3. Sales generated per a product"
   ]
  },
  {
   "cell_type": "code",
   "execution_count": 35,
   "id": "4e45a9ec",
   "metadata": {},
   "outputs": [
    {
     "name": "stdout",
     "output_type": "stream",
     "text": [
      "Connected to database: adventureworks.db\n"
     ]
    },
    {
     "data": {
      "text/html": [
       "<div>\n",
       "<style scoped>\n",
       "    .dataframe tbody tr th:only-of-type {\n",
       "        vertical-align: middle;\n",
       "    }\n",
       "\n",
       "    .dataframe tbody tr th {\n",
       "        vertical-align: top;\n",
       "    }\n",
       "\n",
       "    .dataframe thead th {\n",
       "        text-align: right;\n",
       "    }\n",
       "</style>\n",
       "<table border=\"1\" class=\"dataframe\">\n",
       "  <thead>\n",
       "    <tr style=\"text-align: right;\">\n",
       "      <th></th>\n",
       "      <th>Product Name</th>\n",
       "      <th>Sales</th>\n",
       "    </tr>\n",
       "  </thead>\n",
       "  <tbody>\n",
       "    <tr>\n",
       "      <th>0</th>\n",
       "      <td>Mountain-200 Black, 38</td>\n",
       "      <td>4.400593e+06</td>\n",
       "    </tr>\n",
       "    <tr>\n",
       "      <th>1</th>\n",
       "      <td>Mountain-200 Black, 42</td>\n",
       "      <td>4.009495e+06</td>\n",
       "    </tr>\n",
       "    <tr>\n",
       "      <th>2</th>\n",
       "      <td>Mountain-200 Silver, 38</td>\n",
       "      <td>3.693678e+06</td>\n",
       "    </tr>\n",
       "    <tr>\n",
       "      <th>3</th>\n",
       "      <td>Mountain-200 Silver, 42</td>\n",
       "      <td>3.438479e+06</td>\n",
       "    </tr>\n",
       "    <tr>\n",
       "      <th>4</th>\n",
       "      <td>Mountain-200 Silver, 46</td>\n",
       "      <td>3.434257e+06</td>\n",
       "    </tr>\n",
       "    <tr>\n",
       "      <th>...</th>\n",
       "      <td>...</td>\n",
       "      <td>...</td>\n",
       "    </tr>\n",
       "    <tr>\n",
       "      <th>261</th>\n",
       "      <td>LL Touring Seat/Saddle</td>\n",
       "      <td>1.480752e+03</td>\n",
       "    </tr>\n",
       "    <tr>\n",
       "      <th>262</th>\n",
       "      <td>LL Mountain Frame - Black, 40</td>\n",
       "      <td>1.198992e+03</td>\n",
       "    </tr>\n",
       "    <tr>\n",
       "      <th>263</th>\n",
       "      <td>LL Touring Frame - Blue, 58</td>\n",
       "      <td>8.002080e+02</td>\n",
       "    </tr>\n",
       "    <tr>\n",
       "      <th>264</th>\n",
       "      <td>Mountain Bike Socks, L</td>\n",
       "      <td>5.130000e+02</td>\n",
       "    </tr>\n",
       "    <tr>\n",
       "      <th>265</th>\n",
       "      <td>LL Road Seat/Saddle</td>\n",
       "      <td>1.627200e+02</td>\n",
       "    </tr>\n",
       "  </tbody>\n",
       "</table>\n",
       "<p>266 rows × 2 columns</p>\n",
       "</div>"
      ],
      "text/plain": [
       "                      Product Name         Sales\n",
       "0           Mountain-200 Black, 38  4.400593e+06\n",
       "1           Mountain-200 Black, 42  4.009495e+06\n",
       "2          Mountain-200 Silver, 38  3.693678e+06\n",
       "3          Mountain-200 Silver, 42  3.438479e+06\n",
       "4          Mountain-200 Silver, 46  3.434257e+06\n",
       "..                             ...           ...\n",
       "261         LL Touring Seat/Saddle  1.480752e+03\n",
       "262  LL Mountain Frame - Black, 40  1.198992e+03\n",
       "263    LL Touring Frame - Blue, 58  8.002080e+02\n",
       "264         Mountain Bike Socks, L  5.130000e+02\n",
       "265            LL Road Seat/Saddle  1.627200e+02\n",
       "\n",
       "[266 rows x 2 columns]"
      ]
     },
     "execution_count": 35,
     "metadata": {},
     "output_type": "execute_result"
    }
   ],
   "source": [
    "sales_product = \"\"\"\n",
    "    SELECT \n",
    "        p.Name AS [Product Name],\n",
    "        SUM(LineTotal) AS Sales\n",
    "    FROM SalesOrderDetail AS sod\n",
    "    JOIN Product AS p\n",
    "    ON sod.ProductID = p.ProductID\n",
    "    GROUP BY p.Name\n",
    "    ORDER BY Sales DESC\n",
    "\"\"\"\n",
    "\n",
    "sales_product = pd.read_sql(sales_product,connect_to_db())\n",
    "sales_product"
   ]
  },
  {
   "cell_type": "markdown",
   "id": "d1ed5961",
   "metadata": {},
   "source": [
    "4. What are the top 5 best-selling products by total quantity sold?  "
   ]
  },
  {
   "cell_type": "code",
   "execution_count": 41,
   "id": "f6b1265a",
   "metadata": {},
   "outputs": [
    {
     "name": "stdout",
     "output_type": "stream",
     "text": [
      "Connected to database: adventureworks.db\n"
     ]
    },
    {
     "data": {
      "text/html": [
       "<div>\n",
       "<style scoped>\n",
       "    .dataframe tbody tr th:only-of-type {\n",
       "        vertical-align: middle;\n",
       "    }\n",
       "\n",
       "    .dataframe tbody tr th {\n",
       "        vertical-align: top;\n",
       "    }\n",
       "\n",
       "    .dataframe thead th {\n",
       "        text-align: right;\n",
       "    }\n",
       "</style>\n",
       "<table border=\"1\" class=\"dataframe\">\n",
       "  <thead>\n",
       "    <tr style=\"text-align: right;\">\n",
       "      <th></th>\n",
       "      <th>Product Name</th>\n",
       "      <th>TotalQuantitySold</th>\n",
       "    </tr>\n",
       "  </thead>\n",
       "  <tbody>\n",
       "    <tr>\n",
       "      <th>0</th>\n",
       "      <td>AWC Logo Cap</td>\n",
       "      <td>8311</td>\n",
       "    </tr>\n",
       "    <tr>\n",
       "      <th>1</th>\n",
       "      <td>Water Bottle - 30 oz.</td>\n",
       "      <td>6815</td>\n",
       "    </tr>\n",
       "    <tr>\n",
       "      <th>2</th>\n",
       "      <td>Sport-100 Helmet, Blue</td>\n",
       "      <td>6743</td>\n",
       "    </tr>\n",
       "    <tr>\n",
       "      <th>3</th>\n",
       "      <td>Long-Sleeve Logo Jersey, L</td>\n",
       "      <td>6592</td>\n",
       "    </tr>\n",
       "    <tr>\n",
       "      <th>4</th>\n",
       "      <td>Sport-100 Helmet, Black</td>\n",
       "      <td>6532</td>\n",
       "    </tr>\n",
       "  </tbody>\n",
       "</table>\n",
       "</div>"
      ],
      "text/plain": [
       "                 Product Name  TotalQuantitySold\n",
       "0                AWC Logo Cap               8311\n",
       "1       Water Bottle - 30 oz.               6815\n",
       "2      Sport-100 Helmet, Blue               6743\n",
       "3  Long-Sleeve Logo Jersey, L               6592\n",
       "4     Sport-100 Helmet, Black               6532"
      ]
     },
     "execution_count": 41,
     "metadata": {},
     "output_type": "execute_result"
    }
   ],
   "source": [
    "best_selling_product = \"\"\"\n",
    "    SELECT \n",
    "        p.Name AS [Product Name],\n",
    "        SUM(sod.OrderQty) AS [TotalQuantitySold]\n",
    "    FROM SalesOrderDetail AS sod\n",
    "    JOIN Product AS p\n",
    "    ON sod.ProductID = p.ProductID\n",
    "    GROUP BY p.Name\n",
    "    ORDER BY [TotalQuantitySold] DESC\n",
    "    LIMIT 5\n",
    "\"\"\"\n",
    "\n",
    "best_selling_product = pd.read_sql(best_selling_product,connect_to_db())\n",
    "best_selling_product"
   ]
  },
  {
   "cell_type": "markdown",
   "id": "eaa326a4",
   "metadata": {},
   "source": [
    "5. What are the top 5 least-selling products by total quantity sold? "
   ]
  },
  {
   "cell_type": "code",
   "execution_count": 42,
   "id": "1c64516f",
   "metadata": {},
   "outputs": [
    {
     "name": "stdout",
     "output_type": "stream",
     "text": [
      "Connected to database: adventureworks.db\n"
     ]
    },
    {
     "data": {
      "text/html": [
       "<div>\n",
       "<style scoped>\n",
       "    .dataframe tbody tr th:only-of-type {\n",
       "        vertical-align: middle;\n",
       "    }\n",
       "\n",
       "    .dataframe tbody tr th {\n",
       "        vertical-align: top;\n",
       "    }\n",
       "\n",
       "    .dataframe thead th {\n",
       "        text-align: right;\n",
       "    }\n",
       "</style>\n",
       "<table border=\"1\" class=\"dataframe\">\n",
       "  <thead>\n",
       "    <tr style=\"text-align: right;\">\n",
       "      <th></th>\n",
       "      <th>Product Name</th>\n",
       "      <th>Most Ordered Product</th>\n",
       "    </tr>\n",
       "  </thead>\n",
       "  <tbody>\n",
       "    <tr>\n",
       "      <th>0</th>\n",
       "      <td>LL Touring Frame - Blue, 58</td>\n",
       "      <td>2</td>\n",
       "    </tr>\n",
       "    <tr>\n",
       "      <th>1</th>\n",
       "      <td>ML Mountain Frame-W - Silver, 38</td>\n",
       "      <td>5</td>\n",
       "    </tr>\n",
       "    <tr>\n",
       "      <th>2</th>\n",
       "      <td>LL Mountain Frame - Black, 40</td>\n",
       "      <td>6</td>\n",
       "    </tr>\n",
       "    <tr>\n",
       "      <th>3</th>\n",
       "      <td>LL Road Seat/Saddle</td>\n",
       "      <td>6</td>\n",
       "    </tr>\n",
       "    <tr>\n",
       "      <th>4</th>\n",
       "      <td>LL Mountain Frame - Black, 52</td>\n",
       "      <td>9</td>\n",
       "    </tr>\n",
       "  </tbody>\n",
       "</table>\n",
       "</div>"
      ],
      "text/plain": [
       "                       Product Name  Most Ordered Product\n",
       "0       LL Touring Frame - Blue, 58                     2\n",
       "1  ML Mountain Frame-W - Silver, 38                     5\n",
       "2     LL Mountain Frame - Black, 40                     6\n",
       "3               LL Road Seat/Saddle                     6\n",
       "4     LL Mountain Frame - Black, 52                     9"
      ]
     },
     "execution_count": 42,
     "metadata": {},
     "output_type": "execute_result"
    }
   ],
   "source": [
    "least_selling_product = \"\"\"\n",
    "    SELECT \n",
    "        p.Name AS [Product Name],\n",
    "        COUNT(sod.OrderQty) AS [Most Ordered Product]\n",
    "    FROM SalesOrderDetail AS sod\n",
    "    JOIN Product AS p\n",
    "    ON sod.ProductID = p.ProductID\n",
    "    GROUP BY p.Name\n",
    "    ORDER BY [Most Ordered Product] ASC\n",
    "    LIMIT 5\n",
    "\"\"\"\n",
    "\n",
    "least_selling_product = pd.read_sql(least_selling_product,connect_to_db())\n",
    "least_selling_product"
   ]
  },
  {
   "cell_type": "markdown",
   "id": "e402e5da",
   "metadata": {},
   "source": [
    "6. What is the total revenue per sales territory?"
   ]
  },
  {
   "cell_type": "code",
   "execution_count": 47,
   "id": "4f4541f6",
   "metadata": {},
   "outputs": [
    {
     "name": "stdout",
     "output_type": "stream",
     "text": [
      "Connected to database: adventureworks.db\n"
     ]
    },
    {
     "data": {
      "text/html": [
       "<div>\n",
       "<style scoped>\n",
       "    .dataframe tbody tr th:only-of-type {\n",
       "        vertical-align: middle;\n",
       "    }\n",
       "\n",
       "    .dataframe tbody tr th {\n",
       "        vertical-align: top;\n",
       "    }\n",
       "\n",
       "    .dataframe thead th {\n",
       "        text-align: right;\n",
       "    }\n",
       "</style>\n",
       "<table border=\"1\" class=\"dataframe\">\n",
       "  <thead>\n",
       "    <tr style=\"text-align: right;\">\n",
       "      <th></th>\n",
       "      <th>Territory Name</th>\n",
       "      <th>Total Revenue</th>\n",
       "    </tr>\n",
       "  </thead>\n",
       "  <tbody>\n",
       "    <tr>\n",
       "      <th>0</th>\n",
       "      <td>Canada</td>\n",
       "      <td>36865.8012</td>\n",
       "    </tr>\n",
       "    <tr>\n",
       "      <th>1</th>\n",
       "      <td>Northwest</td>\n",
       "      <td>27510.4109</td>\n",
       "    </tr>\n",
       "    <tr>\n",
       "      <th>2</th>\n",
       "      <td>Southeast</td>\n",
       "      <td>23153.2339</td>\n",
       "    </tr>\n",
       "    <tr>\n",
       "      <th>3</th>\n",
       "      <td>Central</td>\n",
       "      <td>6876.3649</td>\n",
       "    </tr>\n",
       "    <tr>\n",
       "      <th>4</th>\n",
       "      <td>Northeast</td>\n",
       "      <td>4216.0258</td>\n",
       "    </tr>\n",
       "    <tr>\n",
       "      <th>5</th>\n",
       "      <td>Germany</td>\n",
       "      <td>3953.9884</td>\n",
       "    </tr>\n",
       "    <tr>\n",
       "      <th>6</th>\n",
       "      <td>France</td>\n",
       "      <td>3756.9890</td>\n",
       "    </tr>\n",
       "    <tr>\n",
       "      <th>7</th>\n",
       "      <td>Australia</td>\n",
       "      <td>3756.9890</td>\n",
       "    </tr>\n",
       "    <tr>\n",
       "      <th>8</th>\n",
       "      <td>United Kingdom</td>\n",
       "      <td>772.5036</td>\n",
       "    </tr>\n",
       "    <tr>\n",
       "      <th>9</th>\n",
       "      <td>Southwest</td>\n",
       "      <td>472.3108</td>\n",
       "    </tr>\n",
       "  </tbody>\n",
       "</table>\n",
       "</div>"
      ],
      "text/plain": [
       "   Territory Name  Total Revenue\n",
       "0          Canada     36865.8012\n",
       "1       Northwest     27510.4109\n",
       "2       Southeast     23153.2339\n",
       "3         Central      6876.3649\n",
       "4       Northeast      4216.0258\n",
       "5         Germany      3953.9884\n",
       "6          France      3756.9890\n",
       "7       Australia      3756.9890\n",
       "8  United Kingdom       772.5036\n",
       "9       Southwest       472.3108"
      ]
     },
     "execution_count": 47,
     "metadata": {},
     "output_type": "execute_result"
    }
   ],
   "source": [
    "revenue_territory = \"\"\"\n",
    "    SELECT \n",
    "        st.Name AS [Territory Name],\n",
    "        soh.TotalDue as [Total Revenue]\n",
    "    FROM SalesOrderHeader AS soh\n",
    "    JOIN SalesTerritory AS st\n",
    "    ON soh.TerritoryID = st.TerritoryID\n",
    "    GROUP BY st.Name\n",
    "    ORDER BY [Total Revenue] DESC\n",
    "\"\"\"\n",
    "\n",
    "revenue_territory = pd.read_sql(revenue_territory,connect_to_db())\n",
    "revenue_territory"
   ]
  },
  {
   "cell_type": "markdown",
   "id": "caa602f8",
   "metadata": {},
   "source": [
    "### Customer"
   ]
  },
  {
   "cell_type": "markdown",
   "id": "cbc2b692",
   "metadata": {},
   "source": [
    "1. Who are the top 5 customers by total purchases?"
   ]
  },
  {
   "cell_type": "code",
   "execution_count": 50,
   "id": "de966b75",
   "metadata": {},
   "outputs": [
    {
     "name": "stdout",
     "output_type": "stream",
     "text": [
      "Connected to database: adventureworks.db\n"
     ]
    },
    {
     "data": {
      "text/html": [
       "<div>\n",
       "<style scoped>\n",
       "    .dataframe tbody tr th:only-of-type {\n",
       "        vertical-align: middle;\n",
       "    }\n",
       "\n",
       "    .dataframe tbody tr th {\n",
       "        vertical-align: top;\n",
       "    }\n",
       "\n",
       "    .dataframe thead th {\n",
       "        text-align: right;\n",
       "    }\n",
       "</style>\n",
       "<table border=\"1\" class=\"dataframe\">\n",
       "  <thead>\n",
       "    <tr style=\"text-align: right;\">\n",
       "      <th></th>\n",
       "      <th>CustomerID</th>\n",
       "      <th>Total Purchases</th>\n",
       "    </tr>\n",
       "  </thead>\n",
       "  <tbody>\n",
       "    <tr>\n",
       "      <th>0</th>\n",
       "      <td>29818</td>\n",
       "      <td>1.978368e+06</td>\n",
       "    </tr>\n",
       "    <tr>\n",
       "      <th>1</th>\n",
       "      <td>29715</td>\n",
       "      <td>1.923352e+06</td>\n",
       "    </tr>\n",
       "    <tr>\n",
       "      <th>2</th>\n",
       "      <td>29722</td>\n",
       "      <td>1.908044e+06</td>\n",
       "    </tr>\n",
       "    <tr>\n",
       "      <th>3</th>\n",
       "      <td>30117</td>\n",
       "      <td>1.839604e+06</td>\n",
       "    </tr>\n",
       "    <tr>\n",
       "      <th>4</th>\n",
       "      <td>29614</td>\n",
       "      <td>1.802694e+06</td>\n",
       "    </tr>\n",
       "  </tbody>\n",
       "</table>\n",
       "</div>"
      ],
      "text/plain": [
       "   CustomerID  Total Purchases\n",
       "0       29818     1.978368e+06\n",
       "1       29715     1.923352e+06\n",
       "2       29722     1.908044e+06\n",
       "3       30117     1.839604e+06\n",
       "4       29614     1.802694e+06"
      ]
     },
     "execution_count": 50,
     "metadata": {},
     "output_type": "execute_result"
    }
   ],
   "source": [
    "customer = \"\"\"\n",
    "    SELECT\n",
    "        c.CustomerID,\n",
    "        SUM(soh.TotalDue) [Total Purchases]\n",
    "    FROM Customer AS c\n",
    "    JOIN SalesOrderHeader AS soh\n",
    "    ON c.CustomerID = soh.CustomerID\n",
    "    GROUP BY c.CustomerID\n",
    "    ORDER BY [Total Purchases] DESC\n",
    "    LIMIT 5\n",
    "\"\"\"\n",
    "customer = pd.read_sql(customer,connect_to_db())\n",
    "customer"
   ]
  },
  {
   "cell_type": "markdown",
   "id": "66e32d9e",
   "metadata": {},
   "source": [
    "2. What is the total number of orders per customer?"
   ]
  },
  {
   "cell_type": "code",
   "execution_count": 52,
   "id": "9372d3cb",
   "metadata": {},
   "outputs": [
    {
     "name": "stdout",
     "output_type": "stream",
     "text": [
      "Connected to database: adventureworks.db\n"
     ]
    },
    {
     "data": {
      "text/html": [
       "<div>\n",
       "<style scoped>\n",
       "    .dataframe tbody tr th:only-of-type {\n",
       "        vertical-align: middle;\n",
       "    }\n",
       "\n",
       "    .dataframe tbody tr th {\n",
       "        vertical-align: top;\n",
       "    }\n",
       "\n",
       "    .dataframe thead th {\n",
       "        text-align: right;\n",
       "    }\n",
       "</style>\n",
       "<table border=\"1\" class=\"dataframe\">\n",
       "  <thead>\n",
       "    <tr style=\"text-align: right;\">\n",
       "      <th></th>\n",
       "      <th>CustomerID</th>\n",
       "      <th>Total Orders</th>\n",
       "    </tr>\n",
       "  </thead>\n",
       "  <tbody>\n",
       "    <tr>\n",
       "      <th>0</th>\n",
       "      <td>11176</td>\n",
       "      <td>56</td>\n",
       "    </tr>\n",
       "    <tr>\n",
       "      <th>1</th>\n",
       "      <td>11091</td>\n",
       "      <td>56</td>\n",
       "    </tr>\n",
       "    <tr>\n",
       "      <th>2</th>\n",
       "      <td>11711</td>\n",
       "      <td>54</td>\n",
       "    </tr>\n",
       "    <tr>\n",
       "      <th>3</th>\n",
       "      <td>11331</td>\n",
       "      <td>54</td>\n",
       "    </tr>\n",
       "    <tr>\n",
       "      <th>4</th>\n",
       "      <td>11330</td>\n",
       "      <td>54</td>\n",
       "    </tr>\n",
       "    <tr>\n",
       "      <th>5</th>\n",
       "      <td>11300</td>\n",
       "      <td>54</td>\n",
       "    </tr>\n",
       "    <tr>\n",
       "      <th>6</th>\n",
       "      <td>11287</td>\n",
       "      <td>54</td>\n",
       "    </tr>\n",
       "    <tr>\n",
       "      <th>7</th>\n",
       "      <td>11277</td>\n",
       "      <td>54</td>\n",
       "    </tr>\n",
       "    <tr>\n",
       "      <th>8</th>\n",
       "      <td>11276</td>\n",
       "      <td>54</td>\n",
       "    </tr>\n",
       "    <tr>\n",
       "      <th>9</th>\n",
       "      <td>11262</td>\n",
       "      <td>54</td>\n",
       "    </tr>\n",
       "  </tbody>\n",
       "</table>\n",
       "</div>"
      ],
      "text/plain": [
       "   CustomerID  Total Orders\n",
       "0       11176            56\n",
       "1       11091            56\n",
       "2       11711            54\n",
       "3       11331            54\n",
       "4       11330            54\n",
       "5       11300            54\n",
       "6       11287            54\n",
       "7       11277            54\n",
       "8       11276            54\n",
       "9       11262            54"
      ]
     },
     "execution_count": 52,
     "metadata": {},
     "output_type": "execute_result"
    }
   ],
   "source": [
    "order_per_customer = \"\"\"\n",
    "    SELECT \n",
    "        c.CustomerID,\n",
    "        COUNT(soh.SalesOrderID) AS [Total Orders]\n",
    "    FROM Customer c\n",
    "    JOIN SalesOrderHeader soh\n",
    "    ON c.CustomerID = soh.CustomerID\n",
    "    GROUP BY c.CustomerID\n",
    "    ORDER BY [Total Orders] DESC\n",
    "    LIMIT 10\n",
    " \"\"\"\n",
    "order_per_customer = pd.read_sql(order_per_customer,connect_to_db())\n",
    "order_per_customer"
   ]
  },
  {
   "cell_type": "markdown",
   "id": "ddc524aa",
   "metadata": {},
   "source": [
    "3. Which territory has the most customers?"
   ]
  },
  {
   "cell_type": "code",
   "execution_count": 58,
   "id": "a36f7bf2",
   "metadata": {},
   "outputs": [
    {
     "name": "stdout",
     "output_type": "stream",
     "text": [
      "Connected to database: adventureworks.db\n"
     ]
    },
    {
     "data": {
      "text/html": [
       "<div>\n",
       "<style scoped>\n",
       "    .dataframe tbody tr th:only-of-type {\n",
       "        vertical-align: middle;\n",
       "    }\n",
       "\n",
       "    .dataframe tbody tr th {\n",
       "        vertical-align: top;\n",
       "    }\n",
       "\n",
       "    .dataframe thead th {\n",
       "        text-align: right;\n",
       "    }\n",
       "</style>\n",
       "<table border=\"1\" class=\"dataframe\">\n",
       "  <thead>\n",
       "    <tr style=\"text-align: right;\">\n",
       "      <th></th>\n",
       "      <th>Territory Name</th>\n",
       "      <th>Number of Customers</th>\n",
       "    </tr>\n",
       "  </thead>\n",
       "  <tbody>\n",
       "    <tr>\n",
       "      <th>0</th>\n",
       "      <td>Southwest</td>\n",
       "      <td>4696</td>\n",
       "    </tr>\n",
       "    <tr>\n",
       "      <th>1</th>\n",
       "      <td>Australia</td>\n",
       "      <td>3665</td>\n",
       "    </tr>\n",
       "    <tr>\n",
       "      <th>2</th>\n",
       "      <td>Northwest</td>\n",
       "      <td>3520</td>\n",
       "    </tr>\n",
       "    <tr>\n",
       "      <th>3</th>\n",
       "      <td>United Kingdom</td>\n",
       "      <td>1991</td>\n",
       "    </tr>\n",
       "    <tr>\n",
       "      <th>4</th>\n",
       "      <td>France</td>\n",
       "      <td>1884</td>\n",
       "    </tr>\n",
       "    <tr>\n",
       "      <th>5</th>\n",
       "      <td>Germany</td>\n",
       "      <td>1852</td>\n",
       "    </tr>\n",
       "    <tr>\n",
       "      <th>6</th>\n",
       "      <td>Canada</td>\n",
       "      <td>1791</td>\n",
       "    </tr>\n",
       "    <tr>\n",
       "      <th>7</th>\n",
       "      <td>Southeast</td>\n",
       "      <td>176</td>\n",
       "    </tr>\n",
       "    <tr>\n",
       "      <th>8</th>\n",
       "      <td>Central</td>\n",
       "      <td>132</td>\n",
       "    </tr>\n",
       "    <tr>\n",
       "      <th>9</th>\n",
       "      <td>Northeast</td>\n",
       "      <td>113</td>\n",
       "    </tr>\n",
       "  </tbody>\n",
       "</table>\n",
       "</div>"
      ],
      "text/plain": [
       "   Territory Name  Number of Customers\n",
       "0       Southwest                 4696\n",
       "1       Australia                 3665\n",
       "2       Northwest                 3520\n",
       "3  United Kingdom                 1991\n",
       "4          France                 1884\n",
       "5         Germany                 1852\n",
       "6          Canada                 1791\n",
       "7       Southeast                  176\n",
       "8         Central                  132\n",
       "9       Northeast                  113"
      ]
     },
     "execution_count": 58,
     "metadata": {},
     "output_type": "execute_result"
    }
   ],
   "source": [
    "territory_customers = \"\"\"\n",
    "    SELECT \n",
    "        st.Name AS [Territory Name], \n",
    "        COUNT(c.CustomerID) AS [Number of Customers]\n",
    "    FROM Customer c\n",
    "    JOIN SalesTerritory st \n",
    "    ON c.TerritoryID = st.TerritoryID\n",
    "    GROUP BY st.Name\n",
    "    ORDER BY [Number of Customers] DESC\n",
    "\"\"\"\n",
    "territory_customers = pd.read_sql(territory_customers,connect_to_db())\n",
    "territory_customers"
   ]
  },
  {
   "cell_type": "markdown",
   "id": "971ffe4d",
   "metadata": {},
   "source": [
    "### Production"
   ]
  },
  {
   "cell_type": "markdown",
   "id": "dc17a764",
   "metadata": {},
   "source": [
    "1. Which product has the highest average unit price sold?"
   ]
  },
  {
   "cell_type": "code",
   "execution_count": 59,
   "id": "bc134dfd",
   "metadata": {},
   "outputs": [
    {
     "name": "stdout",
     "output_type": "stream",
     "text": [
      "Connected to database: adventureworks.db\n"
     ]
    },
    {
     "data": {
      "text/html": [
       "<div>\n",
       "<style scoped>\n",
       "    .dataframe tbody tr th:only-of-type {\n",
       "        vertical-align: middle;\n",
       "    }\n",
       "\n",
       "    .dataframe tbody tr th {\n",
       "        vertical-align: top;\n",
       "    }\n",
       "\n",
       "    .dataframe thead th {\n",
       "        text-align: right;\n",
       "    }\n",
       "</style>\n",
       "<table border=\"1\" class=\"dataframe\">\n",
       "  <thead>\n",
       "    <tr style=\"text-align: right;\">\n",
       "      <th></th>\n",
       "      <th>Product Name</th>\n",
       "      <th>Average Unit Price</th>\n",
       "    </tr>\n",
       "  </thead>\n",
       "  <tbody>\n",
       "    <tr>\n",
       "      <th>0</th>\n",
       "      <td>Road-150 Red, 48</td>\n",
       "      <td>3326.303800</td>\n",
       "    </tr>\n",
       "    <tr>\n",
       "      <th>1</th>\n",
       "      <td>Road-150 Red, 52</td>\n",
       "      <td>3290.493788</td>\n",
       "    </tr>\n",
       "    <tr>\n",
       "      <th>2</th>\n",
       "      <td>Road-150 Red, 44</td>\n",
       "      <td>3270.418838</td>\n",
       "    </tr>\n",
       "    <tr>\n",
       "      <th>3</th>\n",
       "      <td>Road-150 Red, 62</td>\n",
       "      <td>3170.194953</td>\n",
       "    </tr>\n",
       "    <tr>\n",
       "      <th>4</th>\n",
       "      <td>Road-150 Red, 56</td>\n",
       "      <td>3035.879600</td>\n",
       "    </tr>\n",
       "    <tr>\n",
       "      <th>5</th>\n",
       "      <td>Mountain-100 Black, 44</td>\n",
       "      <td>2290.809328</td>\n",
       "    </tr>\n",
       "    <tr>\n",
       "      <th>6</th>\n",
       "      <td>Mountain-100 Silver, 38</td>\n",
       "      <td>2273.478790</td>\n",
       "    </tr>\n",
       "    <tr>\n",
       "      <th>7</th>\n",
       "      <td>Mountain-100 Black, 48</td>\n",
       "      <td>2244.437794</td>\n",
       "    </tr>\n",
       "    <tr>\n",
       "      <th>8</th>\n",
       "      <td>Mountain-100 Silver, 44</td>\n",
       "      <td>2228.379712</td>\n",
       "    </tr>\n",
       "    <tr>\n",
       "      <th>9</th>\n",
       "      <td>Mountain-100 Black, 38</td>\n",
       "      <td>2221.003035</td>\n",
       "    </tr>\n",
       "  </tbody>\n",
       "</table>\n",
       "</div>"
      ],
      "text/plain": [
       "              Product Name  Average Unit Price\n",
       "0         Road-150 Red, 48         3326.303800\n",
       "1         Road-150 Red, 52         3290.493788\n",
       "2         Road-150 Red, 44         3270.418838\n",
       "3         Road-150 Red, 62         3170.194953\n",
       "4         Road-150 Red, 56         3035.879600\n",
       "5   Mountain-100 Black, 44         2290.809328\n",
       "6  Mountain-100 Silver, 38         2273.478790\n",
       "7   Mountain-100 Black, 48         2244.437794\n",
       "8  Mountain-100 Silver, 44         2228.379712\n",
       "9   Mountain-100 Black, 38         2221.003035"
      ]
     },
     "execution_count": 59,
     "metadata": {},
     "output_type": "execute_result"
    }
   ],
   "source": [
    "highest_average = \"\"\"\n",
    "    SELECT \n",
    "        p.Name AS [Product Name],\n",
    "        AVG(sod.UnitPrice) AS [Average Unit Price]\n",
    "    FROM SalesOrderDetail sod\n",
    "    JOIN Product p \n",
    "    ON sod.ProductID = p.ProductID\n",
    "    GROUP BY p.Name\n",
    "    ORDER BY [Average Unit Price] DESC\n",
    "    LIMIT 10\n",
    "\"\"\"\n",
    "\n",
    "highest_average = pd.read_sql(highest_average,connect_to_db())\n",
    "highest_average"
   ]
  },
  {
   "cell_type": "code",
   "execution_count": null,
   "id": "6ec32963",
   "metadata": {},
   "outputs": [],
   "source": []
  }
 ],
 "metadata": {
  "kernelspec": {
   "display_name": ".venv",
   "language": "python",
   "name": "python3"
  },
  "language_info": {
   "codemirror_mode": {
    "name": "ipython",
    "version": 3
   },
   "file_extension": ".py",
   "mimetype": "text/x-python",
   "name": "python",
   "nbconvert_exporter": "python",
   "pygments_lexer": "ipython3",
   "version": "3.11.8"
  }
 },
 "nbformat": 4,
 "nbformat_minor": 5
}
